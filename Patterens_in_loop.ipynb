{
  "nbformat": 4,
  "nbformat_minor": 0,
  "metadata": {
    "colab": {
      "name": "loops.ipynb",
      "provenance": [],
      "authorship_tag": "ABX9TyPb9d+FPsPlZSX6CcwQrMS2",
      "include_colab_link": true
    },
    "kernelspec": {
      "name": "python3",
      "display_name": "Python 3"
    },
    "language_info": {
      "name": "python"
    }
  },
  "cells": [
    {
      "cell_type": "markdown",
      "metadata": {
        "id": "view-in-github",
        "colab_type": "text"
      },
      "source": [
        "<a href=\"https://colab.research.google.com/github/GouriES/Basic-Python-Codes/blob/main/Patterens_in_loop.ipynb\" target=\"_parent\"><img src=\"https://colab.research.google.com/assets/colab-badge.svg\" alt=\"Open In Colab\"/></a>"
      ]
    },
    {
      "cell_type": "markdown",
      "source": [
        "# Different Types of Asterisk(*) Patterens in Python"
      ],
      "metadata": {
        "id": "enj1BZysgWzE"
      }
    },
    {
      "cell_type": "markdown",
      "source": [
        "## Square\n"
      ],
      "metadata": {
        "id": "w3hSPCRhdb6M"
      }
    },
    {
      "cell_type": "code",
      "source": [
        "n=7\n",
        "for i in range(n):\n",
        "  for j in range(n):\n",
        "    print(\"*\",end=\" \")\n",
        "  print()\n"
      ],
      "metadata": {
        "colab": {
          "base_uri": "https://localhost:8080/"
        },
        "id": "7KF7dPAonTBs",
        "outputId": "51542e0c-650c-4eee-be07-9bfecd53d94e"
      },
      "execution_count": null,
      "outputs": [
        {
          "output_type": "stream",
          "name": "stdout",
          "text": [
            "* * * * * * * \n",
            "* * * * * * * \n",
            "* * * * * * * \n",
            "* * * * * * * \n",
            "* * * * * * * \n",
            "* * * * * * * \n",
            "* * * * * * * \n"
          ]
        }
      ]
    },
    {
      "cell_type": "markdown",
      "source": [
        "## Right Triangle"
      ],
      "metadata": {
        "id": "Ndhyn_Omdhhs"
      }
    },
    {
      "cell_type": "code",
      "source": [
        "n=7\n",
        "for i in range(n):\n",
        "  for j in range(i+1):\n",
        "    print(\"*\", end=\" \")\n",
        "  print()"
      ],
      "metadata": {
        "colab": {
          "base_uri": "https://localhost:8080/"
        },
        "id": "Fy5JGMJV3V11",
        "outputId": "1264b8c3-8c96-44ca-d8cf-a6261c706e15"
      },
      "execution_count": null,
      "outputs": [
        {
          "output_type": "stream",
          "name": "stdout",
          "text": [
            "* \n",
            "* * \n",
            "* * * \n",
            "* * * * \n",
            "* * * * * \n",
            "* * * * * * \n",
            "* * * * * * * \n"
          ]
        }
      ]
    },
    {
      "cell_type": "markdown",
      "source": [
        "## Left Triangle"
      ],
      "metadata": {
        "id": "mk_tXfrEdqxS"
      }
    },
    {
      "cell_type": "code",
      "source": [
        "n=7\n",
        "for i in range(n):\n",
        "  for j in range(i,n):\n",
        "    print(\" \", end=\" \")\n",
        "\n",
        "  for j in range(i+1):\n",
        "    print(\"*\",end=\" \")\n",
        "\n",
        "  print()"
      ],
      "metadata": {
        "colab": {
          "base_uri": "https://localhost:8080/"
        },
        "id": "15rAcYg20Vov",
        "outputId": "d1311cde-3519-47a5-8e4f-d5552acb51af"
      },
      "execution_count": null,
      "outputs": [
        {
          "output_type": "stream",
          "name": "stdout",
          "text": [
            "              * \n",
            "            * * \n",
            "          * * * \n",
            "        * * * * \n",
            "      * * * * * \n",
            "    * * * * * * \n",
            "  * * * * * * * \n"
          ]
        }
      ]
    },
    {
      "cell_type": "markdown",
      "source": [
        "## Right Downward Triangle"
      ],
      "metadata": {
        "id": "zKuptPmhdxZW"
      }
    },
    {
      "cell_type": "code",
      "source": [
        "n=7\n",
        "for i in range(n):\n",
        "  for j in range(i,n):\n",
        "    print(\"*\", end=\" \")\n",
        "  print()"
      ],
      "metadata": {
        "colab": {
          "base_uri": "https://localhost:8080/"
        },
        "id": "drxy3ddSMo9s",
        "outputId": "ebeb56d1-9089-4963-e764-3d583b096173"
      },
      "execution_count": null,
      "outputs": [
        {
          "output_type": "stream",
          "name": "stdout",
          "text": [
            "* * * * * * * \n",
            "* * * * * * \n",
            "* * * * * \n",
            "* * * * \n",
            "* * * \n",
            "* * \n",
            "* \n"
          ]
        }
      ]
    },
    {
      "cell_type": "markdown",
      "source": [
        "## Left Downward Triangle"
      ],
      "metadata": {
        "id": "PgU7VtMFd3Z4"
      }
    },
    {
      "cell_type": "code",
      "source": [
        "n=7\n",
        "for i in range(n):\n",
        "  for j in range(i+1):\n",
        "    print(\" \",end=\" \")\n",
        "\n",
        "  for j in range(i,n):\n",
        "    print(\"*\", end=\" \")\n",
        "\n",
        "  print()"
      ],
      "metadata": {
        "colab": {
          "base_uri": "https://localhost:8080/"
        },
        "id": "mPj2eIF_4S1e",
        "outputId": "e0721e42-5d6d-48ce-f720-f8d84af20c57"
      },
      "execution_count": null,
      "outputs": [
        {
          "output_type": "stream",
          "name": "stdout",
          "text": [
            "  * * * * * * * \n",
            "    * * * * * * \n",
            "      * * * * * \n",
            "        * * * * \n",
            "          * * * \n",
            "            * * \n",
            "              * \n"
          ]
        }
      ]
    },
    {
      "cell_type": "markdown",
      "source": [
        "## Pyramid"
      ],
      "metadata": {
        "id": "9kqJ5K7rd9Lh"
      }
    },
    {
      "cell_type": "code",
      "source": [
        "n=7\n",
        "for i in range(n):\n",
        "  for j in range(i,n):\n",
        "    print(\" \", end=\" \")\n",
        "\n",
        "  for j in range(i+1):\n",
        "    print(\"*\",end=\" \")\n",
        "\n",
        "  for j in range(i):\n",
        "    print(\"*\", end=\" \")\n",
        "  print()"
      ],
      "metadata": {
        "colab": {
          "base_uri": "https://localhost:8080/"
        },
        "id": "5_G1agTHNzjr",
        "outputId": "404b8a74-8038-4946-ab25-81253cdf819f"
      },
      "execution_count": null,
      "outputs": [
        {
          "output_type": "stream",
          "name": "stdout",
          "text": [
            "              * \n",
            "            * * * \n",
            "          * * * * * \n",
            "        * * * * * * * \n",
            "      * * * * * * * * * \n",
            "    * * * * * * * * * * * \n",
            "  * * * * * * * * * * * * * \n"
          ]
        }
      ]
    },
    {
      "cell_type": "markdown",
      "source": [
        "## Downward Pyramid"
      ],
      "metadata": {
        "id": "akCD-XtSeRR_"
      }
    },
    {
      "cell_type": "code",
      "source": [
        "n=7\n",
        "for i in range(n):\n",
        "  for j in range(i+1):\n",
        "    print(\" \",end=\" \")\n",
        "\n",
        "  for j in range(i,n):\n",
        "    print(\"*\", end=\" \")\n",
        "\n",
        "  for j in range(i+1,n):\n",
        "    print(\"*\", end=\" \")\n",
        "\n",
        "  print()"
      ],
      "metadata": {
        "colab": {
          "base_uri": "https://localhost:8080/"
        },
        "id": "AaYlrNK7OzsW",
        "outputId": "31df643c-0578-4a52-e2e8-953d1bf6781a"
      },
      "execution_count": null,
      "outputs": [
        {
          "output_type": "stream",
          "name": "stdout",
          "text": [
            "  * * * * * * * * * * * * * \n",
            "    * * * * * * * * * * * \n",
            "      * * * * * * * * * \n",
            "        * * * * * * * \n",
            "          * * * * * \n",
            "            * * * \n",
            "              * \n"
          ]
        }
      ]
    },
    {
      "cell_type": "markdown",
      "source": [
        "## sandglass"
      ],
      "metadata": {
        "id": "wMk-6-47eXz_"
      }
    },
    {
      "cell_type": "code",
      "source": [
        "n=7\n",
        "for i in range(n):\n",
        "  for j in range(i+1):\n",
        "    print(\" \",end=\" \")\n",
        "\n",
        "  for j in range(i,n):\n",
        "    print(\"*\", end=\" \")\n",
        "\n",
        "  for j in range(i+1,n):\n",
        "    print(\"*\", end=\" \")\n",
        "\n",
        "  print()\n",
        "\n",
        "for i in range(n):\n",
        "  for j in range(i,n):\n",
        "    print(\" \", end=\" \")\n",
        "\n",
        "  for j in range(i+1):\n",
        "    print(\"*\",end=\" \")\n",
        "\n",
        "  for j in range(i):\n",
        "    print(\"*\", end=\" \")\n",
        "  print()\n"
      ],
      "metadata": {
        "colab": {
          "base_uri": "https://localhost:8080/"
        },
        "id": "FUEoKcsUPgfc",
        "outputId": "74cd04eb-0fd9-4365-8549-66343685d321"
      },
      "execution_count": null,
      "outputs": [
        {
          "output_type": "stream",
          "name": "stdout",
          "text": [
            "  * * * * * * * * * * * * * \n",
            "    * * * * * * * * * * * \n",
            "      * * * * * * * * * \n",
            "        * * * * * * * \n",
            "          * * * * * \n",
            "            * * * \n",
            "              * \n",
            "              * \n",
            "            * * * \n",
            "          * * * * * \n",
            "        * * * * * * * \n",
            "      * * * * * * * * * \n",
            "    * * * * * * * * * * * \n",
            "  * * * * * * * * * * * * * \n"
          ]
        }
      ]
    },
    {
      "cell_type": "markdown",
      "source": [
        "## Diamond"
      ],
      "metadata": {
        "id": "lir9tLzfedoF"
      }
    },
    {
      "cell_type": "code",
      "source": [
        "n=7\n",
        "\n",
        "for i in range(n-1):\n",
        "  for j in range(i,n):\n",
        "    print(\" \", end=\" \")\n",
        "\n",
        "  for j in range(i+1):\n",
        "    print(\"*\",end=\" \")\n",
        "\n",
        "  for j in range(i):\n",
        "    print(\"*\", end=\" \")\n",
        "  print()\n",
        "\n",
        "for i in range(n):\n",
        "  for j in range(i+1):\n",
        "    print(\" \",end=\" \")\n",
        "\n",
        "  for j in range(i,n):\n",
        "    print(\"*\", end=\" \")\n",
        "\n",
        "  for j in range(i+1,n):\n",
        "    print(\"*\", end=\" \")\n",
        "\n",
        "  print()\n"
      ],
      "metadata": {
        "colab": {
          "base_uri": "https://localhost:8080/"
        },
        "id": "WEyzBv9HQ57Z",
        "outputId": "07c451d0-8935-4005-961f-bceecf92d29d"
      },
      "execution_count": null,
      "outputs": [
        {
          "output_type": "stream",
          "name": "stdout",
          "text": [
            "              * \n",
            "            * * * \n",
            "          * * * * * \n",
            "        * * * * * * * \n",
            "      * * * * * * * * * \n",
            "    * * * * * * * * * * * \n",
            "  * * * * * * * * * * * * * \n",
            "    * * * * * * * * * * * \n",
            "      * * * * * * * * * \n",
            "        * * * * * * * \n",
            "          * * * * * \n",
            "            * * * \n",
            "              * \n"
          ]
        }
      ]
    },
    {
      "cell_type": "markdown",
      "source": [
        "## Left Pascal's Triangle"
      ],
      "metadata": {
        "id": "V8gnhbmxeuKV"
      }
    },
    {
      "cell_type": "code",
      "source": [
        "n=7\n",
        "for i in range(n):\n",
        "  for j in range(i+1):\n",
        "    print(\"*\", end=\" \")\n",
        "  print()\n",
        "for i in range(n-1):\n",
        "  for j in range(i,n-1):\n",
        "    print(\"*\", end=\" \")\n",
        "  print()"
      ],
      "metadata": {
        "colab": {
          "base_uri": "https://localhost:8080/"
        },
        "id": "XZnuzoaY_tID",
        "outputId": "e60c4a70-77d9-46db-c2b6-51279da136fa"
      },
      "execution_count": null,
      "outputs": [
        {
          "output_type": "stream",
          "name": "stdout",
          "text": [
            "* \n",
            "* * \n",
            "* * * \n",
            "* * * * \n",
            "* * * * * \n",
            "* * * * * * \n",
            "* * * * * * * \n",
            "* * * * * * \n",
            "* * * * * \n",
            "* * * * \n",
            "* * * \n",
            "* * \n",
            "* \n"
          ]
        }
      ]
    },
    {
      "cell_type": "markdown",
      "source": [
        "## Hollow Left Pascal's Triangle "
      ],
      "metadata": {
        "id": "BLD_QJOue5Ho"
      }
    },
    {
      "cell_type": "code",
      "source": [
        "n=7\n",
        "for i in range(n):\n",
        "  for j in range(i+1):\n",
        "    print(\" \", end=\" \")\n",
        "\n",
        "  for j in range(i,n):\n",
        "    print(\"*\", end=\" \")\n",
        "  print()\n",
        "\n",
        "for i in range(n-1):\n",
        "  for j in range(i+1,n):\n",
        "    print(\" \", end=\" \")\n",
        "  for j in range(i+2):\n",
        "    print(\"*\", end=\" \")\n",
        "\n",
        "  print()"
      ],
      "metadata": {
        "colab": {
          "base_uri": "https://localhost:8080/"
        },
        "id": "5PtikWveZdBw",
        "outputId": "62bd4d12-209a-41c5-a5e2-e444ef08d9c7"
      },
      "execution_count": null,
      "outputs": [
        {
          "output_type": "stream",
          "name": "stdout",
          "text": [
            "  * * * * * * * \n",
            "    * * * * * * \n",
            "      * * * * * \n",
            "        * * * * \n",
            "          * * * \n",
            "            * * \n",
            "              * \n",
            "            * * \n",
            "          * * * \n",
            "        * * * * \n",
            "      * * * * * \n",
            "    * * * * * * \n",
            "  * * * * * * * \n"
          ]
        }
      ]
    },
    {
      "cell_type": "markdown",
      "source": [
        "## Right Pascal's Triangle"
      ],
      "metadata": {
        "id": "Z4YcUWfwe4Gw"
      }
    },
    {
      "cell_type": "code",
      "source": [
        "n=7\n",
        "for i in range(n):\n",
        "  for j in range(i,n):\n",
        "    print(\" \", end=\" \")\n",
        "\n",
        "  for j in range(i+1):\n",
        "    print(\"*\",end=\" \")\n",
        "\n",
        "  print()\n",
        "\n",
        "for i in range(n):\n",
        "  for j in range(i+2):\n",
        "    print(\" \",end=\" \")\n",
        "\n",
        "  for j in range(i,n-1):\n",
        "    print(\"*\", end=\" \")\n",
        "\n",
        "  print()"
      ],
      "metadata": {
        "colab": {
          "base_uri": "https://localhost:8080/"
        },
        "id": "LN7QVrS30fiF",
        "outputId": "c27192f5-aafe-4a26-9cf4-eb75cf501ecc"
      },
      "execution_count": null,
      "outputs": [
        {
          "output_type": "stream",
          "name": "stdout",
          "text": [
            "              * \n",
            "            * * \n",
            "          * * * \n",
            "        * * * * \n",
            "      * * * * * \n",
            "    * * * * * * \n",
            "  * * * * * * * \n",
            "    * * * * * * \n",
            "      * * * * * \n",
            "        * * * * \n",
            "          * * * \n",
            "            * * \n",
            "              * \n",
            "                \n"
          ]
        }
      ]
    },
    {
      "cell_type": "markdown",
      "source": [
        "## Hollow Diamond"
      ],
      "metadata": {
        "id": "qjkUrPykftoA"
      }
    },
    {
      "cell_type": "code",
      "source": [
        "n=7\n",
        "\n",
        "for i in range(n-1):\n",
        "  for j in range(i,n):\n",
        "    print(\"*\", end=\" \")\n",
        "\n",
        "  for j in range(i):\n",
        "    print(\" \",end=\" \")\n",
        "\n",
        "  for j in range(i+1):\n",
        "    print(\" \", end=\" \")\n",
        "\n",
        "  for j in range(i,n):\n",
        "    print(\"*\", end=\" \")\n",
        "  print()\n",
        "\n",
        "for i in range(n):\n",
        "  for j in range(i+1):\n",
        "    print(\"*\",end=\" \")\n",
        "\n",
        "  for j in range(i,n):\n",
        "    print(\" \", end=\" \")\n",
        "\n",
        "  for j in range(i+1,n):\n",
        "    print(\" \", end=\" \")\n",
        "\n",
        "  for j in range(i+1):\n",
        "    print(\"*\", end=\" \")\n",
        "\n",
        "  print()"
      ],
      "metadata": {
        "colab": {
          "base_uri": "https://localhost:8080/"
        },
        "id": "OSApnKLlytML",
        "outputId": "0317a608-bd3b-4871-c9ad-672c1e4be527"
      },
      "execution_count": null,
      "outputs": [
        {
          "output_type": "stream",
          "name": "stdout",
          "text": [
            "* * * * * * *   * * * * * * * \n",
            "* * * * * *       * * * * * * \n",
            "* * * * *           * * * * * \n",
            "* * * *               * * * * \n",
            "* * *                   * * * \n",
            "* *                       * * \n",
            "*                           * \n",
            "* *                       * * \n",
            "* * *                   * * * \n",
            "* * * *               * * * * \n",
            "* * * * *           * * * * * \n",
            "* * * * * *       * * * * * * \n",
            "* * * * * * *   * * * * * * * \n"
          ]
        }
      ]
    },
    {
      "cell_type": "markdown",
      "source": [
        "## Double Pyramid"
      ],
      "metadata": {
        "id": "Ww3_HrIigQ5C"
      }
    },
    {
      "cell_type": "code",
      "source": [
        "n=7\n",
        "for i in range(n):\n",
        "  for j in range(i,n):\n",
        "    print(\" \", end=\" \")\n",
        "\n",
        "  for j in range(i):\n",
        "    print(\"*\",end=\" \")\n",
        "\n",
        "  for j in range(i+1):\n",
        "    print(\"*\",end=\" \")\n",
        "\n",
        "  for j in range(i,n-1):\n",
        "    print(\" \", end=\" \")\n",
        "\n",
        "  for j in range(i,n-1):\n",
        "    print(\" \", end=\" \")\n",
        "\n",
        "  for j in range(i):\n",
        "    print(\"*\",end=\" \")\n",
        "\n",
        "  for j in range(i+1):\n",
        "    print(\"*\",end=\" \")\n",
        "  print()"
      ],
      "metadata": {
        "colab": {
          "base_uri": "https://localhost:8080/"
        },
        "id": "W4ax9EXAWkos",
        "outputId": "7b91c603-8d89-48f6-c93a-8b55f74fde34"
      },
      "execution_count": null,
      "outputs": [
        {
          "output_type": "stream",
          "name": "stdout",
          "text": [
            "              *                         * \n",
            "            * * *                     * * * \n",
            "          * * * * *                 * * * * * \n",
            "        * * * * * * *             * * * * * * * \n",
            "      * * * * * * * * *         * * * * * * * * * \n",
            "    * * * * * * * * * * *     * * * * * * * * * * * \n",
            "  * * * * * * * * * * * * * * * * * * * * * * * * * * \n"
          ]
        }
      ]
    },
    {
      "cell_type": "markdown",
      "source": [
        "## Butterfly"
      ],
      "metadata": {
        "id": "xBvw_uvtg0ye"
      }
    },
    {
      "cell_type": "code",
      "source": [
        "n=7\n",
        "for i in range(n-1):\n",
        "  for j in range(i+1):\n",
        "    print(\"*\", end=\" \")\n",
        "  for j in range(i,n-1):\n",
        "    print(\" \", end=\" \")\n",
        "  for j in range(i,n-1):\n",
        "    print(\" \", end=\" \")\n",
        "  for j in range(i+1):\n",
        "    print(\"*\", end=\" \")\n",
        "  print()\n",
        "\n",
        "for i in range(n):\n",
        "  for j in range(i,n):\n",
        "    print(\"*\", end=\" \")\n",
        "  for j in range(i):\n",
        "    print(\" \", end=\" \")\n",
        "  for j in range(i):\n",
        "    print(\" \", end=\" \")\n",
        "  for j in range(i+1,n+1):\n",
        "    print(\"*\", end=\" \")\n",
        "\n",
        "  print()"
      ],
      "metadata": {
        "colab": {
          "base_uri": "https://localhost:8080/"
        },
        "id": "_Hp-1Br7sheQ",
        "outputId": "1693e33a-e060-42f2-a6c2-0d5cf503e6be"
      },
      "execution_count": null,
      "outputs": [
        {
          "output_type": "stream",
          "name": "stdout",
          "text": [
            "*                         * \n",
            "* *                     * * \n",
            "* * *                 * * * \n",
            "* * * *             * * * * \n",
            "* * * * *         * * * * * \n",
            "* * * * * *     * * * * * * \n",
            "* * * * * * * * * * * * * * \n",
            "* * * * * *     * * * * * * \n",
            "* * * * *         * * * * * \n",
            "* * * *             * * * * \n",
            "* * *                 * * * \n",
            "* *                     * * \n",
            "*                         * \n"
          ]
        }
      ]
    },
    {
      "cell_type": "markdown",
      "source": [
        "# Indexing of Hollow pattern\n",
        "\n",
        "<table>\n",
        "<tr>\n",
        "<th>\n",
        "row col\n",
        "</th>\n",
        "<th>\n",
        "row col\n",
        "</th>\n",
        "<th>\n",
        "row col\n",
        "</th>\n",
        "<th>\n",
        "row col\n",
        "</th>\n",
        "\n",
        "</tr>\n",
        "<tr>\n",
        "<td>i=0 j=0</td>\n",
        "<td>i=0 j=1</td>\n",
        "<td>i=0 j=2</td>\n",
        "<td>i=0 j=3</td>\n",
        "</tr><tr>\n",
        "<td>i=1 j=0</td>\n",
        "<td>i=1 j=1</td>\n",
        "<td>i=1 j=2</td>\n",
        "<td>i=1 j=3</td>\n",
        "</tr><tr>\n",
        "<td>i=2 j=0</td>\n",
        "<td>i=2 j=1</td>\n",
        "<td>i=2 j=2</td>\n",
        "<td>i=2 j=3</td>\n",
        "</tr><tr>\n",
        "<td>i=3 j=0</td>\n",
        "<td>i=3 j=1</td>\n",
        "<td>i=3 j=2</td>\n",
        "<td>i=3 j=3</td></tr>\n",
        "</table>\n",
        "\n",
        "1.   First Row : i = 0\n",
        "2.   Last Row : i = n-1\n",
        "3.   First Col : j = 0\n",
        "4.   Last Col : j = n-1\n",
        "5.   middle row or col: n//2 \n",
        "6.   major Diagonal : i==j\n",
        "7.   Left Diagonal : i+j == n-1"
      ],
      "metadata": {
        "id": "mOXQiFMdxXpM"
      }
    },
    {
      "cell_type": "markdown",
      "source": [
        "## Vertical Parallel line"
      ],
      "metadata": {
        "id": "BbDlNeQYxDVJ"
      }
    },
    {
      "cell_type": "code",
      "source": [
        "for i in range(n):\n",
        "  for j in range(n):\n",
        "    if j==0 or j==n-1:\n",
        "      print(\"*\",end=\" \")\n",
        "    else:\n",
        "      print(\" \",end=\" \")\n",
        "  print()"
      ],
      "metadata": {
        "colab": {
          "base_uri": "https://localhost:8080/"
        },
        "id": "DMZ59I3IIXCr",
        "outputId": "1fe37a9f-3c95-4b15-b52e-c9160ec30218"
      },
      "execution_count": null,
      "outputs": [
        {
          "output_type": "stream",
          "name": "stdout",
          "text": [
            "*           * \n",
            "*           * \n",
            "*           * \n",
            "*           * \n",
            "*           * \n",
            "*           * \n",
            "*           * \n"
          ]
        }
      ]
    },
    {
      "cell_type": "markdown",
      "source": [
        "## Horizontal Parallel line"
      ],
      "metadata": {
        "id": "vlh1iPv4w2L4"
      }
    },
    {
      "cell_type": "code",
      "source": [
        "for i in range(n):\n",
        "  for j in range(n):\n",
        "    if i==0 or i==n-1:\n",
        "      print(\"*\",end=\" \")\n",
        "    else:\n",
        "      print(\" \",end=\" \")\n",
        "  print()"
      ],
      "metadata": {
        "colab": {
          "base_uri": "https://localhost:8080/"
        },
        "id": "L5Xu9QkrI9nI",
        "outputId": "6657e3a2-1187-49f1-ddcd-a3c881718919"
      },
      "execution_count": null,
      "outputs": [
        {
          "output_type": "stream",
          "name": "stdout",
          "text": [
            "* * * * * * * \n",
            "              \n",
            "              \n",
            "              \n",
            "              \n",
            "              \n",
            "* * * * * * * \n"
          ]
        }
      ]
    },
    {
      "cell_type": "markdown",
      "source": [
        "## Box"
      ],
      "metadata": {
        "id": "ANa-1EEawyfi"
      }
    },
    {
      "cell_type": "code",
      "source": [
        "for i in range(n):\n",
        "  for j in range(n):\n",
        "    if i==0 or i==n-1 or j==0 or j==n-1:\n",
        "      print(\"*\",end=\" \")\n",
        "    else:\n",
        "      print(\" \",end=\" \")\n",
        "  print()"
      ],
      "metadata": {
        "colab": {
          "base_uri": "https://localhost:8080/"
        },
        "id": "xSrSLMspIyFQ",
        "outputId": "53a4e850-755e-4d93-8e68-9a01d89d38de"
      },
      "execution_count": null,
      "outputs": [
        {
          "output_type": "stream",
          "name": "stdout",
          "text": [
            "* * * * * * * \n",
            "*           * \n",
            "*           * \n",
            "*           * \n",
            "*           * \n",
            "*           * \n",
            "* * * * * * * \n"
          ]
        }
      ]
    },
    {
      "cell_type": "markdown",
      "source": [
        "## Plus"
      ],
      "metadata": {
        "id": "ry-BEg0WwwAK"
      }
    },
    {
      "cell_type": "code",
      "source": [
        "for i in range(n):\n",
        "  for j in range(n):\n",
        "    if i== n//2 or j==n//2:\n",
        "      print(\"*\",end=\" \")\n",
        "    else:\n",
        "      print(\" \",end=\" \")\n",
        "  print()"
      ],
      "metadata": {
        "colab": {
          "base_uri": "https://localhost:8080/"
        },
        "id": "ZaUiQxCJKtsQ",
        "outputId": "3f0c80f6-e85e-4f6b-d3b4-13655c58c038"
      },
      "execution_count": null,
      "outputs": [
        {
          "output_type": "stream",
          "name": "stdout",
          "text": [
            "      *       \n",
            "      *       \n",
            "      *       \n",
            "* * * * * * * \n",
            "      *       \n",
            "      *       \n",
            "      *       \n"
          ]
        }
      ]
    },
    {
      "cell_type": "markdown",
      "source": [
        "## Cross"
      ],
      "metadata": {
        "id": "Ohhjw9vPwueS"
      }
    },
    {
      "cell_type": "code",
      "source": [
        "for i in range(n):\n",
        "  for j in range(n):\n",
        "    if i+j == n-1 or i==j:\n",
        "      print(\"*\",end=\" \")\n",
        "    else:\n",
        "      print(\" \",end=\" \")\n",
        "  print()"
      ],
      "metadata": {
        "colab": {
          "base_uri": "https://localhost:8080/"
        },
        "id": "Jp6gJ0mgKMDM",
        "outputId": "5ecb596e-8954-4747-9786-ca6123b1e951"
      },
      "execution_count": null,
      "outputs": [
        {
          "output_type": "stream",
          "name": "stdout",
          "text": [
            "*           * \n",
            "  *       *   \n",
            "    *   *     \n",
            "      *       \n",
            "    *   *     \n",
            "  *       *   \n",
            "*           * \n"
          ]
        }
      ]
    },
    {
      "cell_type": "markdown",
      "source": [
        "## Reverse L"
      ],
      "metadata": {
        "id": "d0ph5FmWwpoC"
      }
    },
    {
      "cell_type": "code",
      "source": [
        "for i in range(n):\n",
        "  for j in range(n):\n",
        "    if i==0 or j==n-1:\n",
        "      print(\"*\",end=\" \")\n",
        "    else:\n",
        "      print(\" \",end=\" \")\n",
        "  print()"
      ],
      "metadata": {
        "colab": {
          "base_uri": "https://localhost:8080/"
        },
        "id": "hd6cY98JNAWx",
        "outputId": "ca9cab19-85e3-411a-9afd-417c8289da33"
      },
      "execution_count": null,
      "outputs": [
        {
          "output_type": "stream",
          "name": "stdout",
          "text": [
            "* * * * * * * \n",
            "            * \n",
            "            * \n",
            "            * \n",
            "            * \n",
            "            * \n",
            "            * \n"
          ]
        }
      ]
    },
    {
      "cell_type": "markdown",
      "source": [
        "## Hollow Left Downward Triangle"
      ],
      "metadata": {
        "id": "crbfRs2kxSu9"
      }
    },
    {
      "cell_type": "code",
      "source": [
        "for i in range(n):\n",
        "  for j in range(n):\n",
        "    if i==0 or j==n-1 or j==i:\n",
        "      print(\"*\",end=\" \")\n",
        "    else:\n",
        "      print(\" \",end=\" \")\n",
        "  print()"
      ],
      "metadata": {
        "colab": {
          "base_uri": "https://localhost:8080/"
        },
        "id": "nqD_Fd4rNiZH",
        "outputId": "1127879e-3fcd-4b77-f3f5-648aff07a3c2"
      },
      "execution_count": null,
      "outputs": [
        {
          "output_type": "stream",
          "name": "stdout",
          "text": [
            "* * * * * * * \n",
            "  *         * \n",
            "    *       * \n",
            "      *     * \n",
            "        *   * \n",
            "          * * \n",
            "            * \n"
          ]
        }
      ]
    },
    {
      "cell_type": "markdown",
      "source": [
        "## Right Corner upward Arrow"
      ],
      "metadata": {
        "id": "ogMe1cBpwOh3"
      }
    },
    {
      "cell_type": "code",
      "source": [
        "for i in range(n):\n",
        "  for j in range(n):\n",
        "    if i==0 or j==n-1 or j+i==n-1:\n",
        "      print(\"*\",end=\" \")\n",
        "    else:\n",
        "      print(\" \",end=\" \")\n",
        "  print()"
      ],
      "metadata": {
        "colab": {
          "base_uri": "https://localhost:8080/"
        },
        "id": "8todQSiANnk8",
        "outputId": "c1dcda88-10a9-47a5-f703-c9bf297327f6"
      },
      "execution_count": null,
      "outputs": [
        {
          "output_type": "stream",
          "name": "stdout",
          "text": [
            "* * * * * * * \n",
            "          * * \n",
            "        *   * \n",
            "      *     * \n",
            "    *       * \n",
            "  *         * \n",
            "*           * \n"
          ]
        }
      ]
    },
    {
      "cell_type": "markdown",
      "source": [
        "## L shape"
      ],
      "metadata": {
        "id": "tT8ak-IXwgrG"
      }
    },
    {
      "cell_type": "code",
      "source": [
        "for i in range(n):\n",
        "  for j in range(n):\n",
        "    if i==n-1 or j==0:\n",
        "      print(\"*\",end=\" \")\n",
        "    else:\n",
        "      print(\" \",end=\" \")\n",
        "  print()"
      ],
      "metadata": {
        "colab": {
          "base_uri": "https://localhost:8080/"
        },
        "id": "7eO8D5ZnNFmu",
        "outputId": "450192e3-0bf8-4288-958a-c3a6c8d40973"
      },
      "execution_count": null,
      "outputs": [
        {
          "output_type": "stream",
          "name": "stdout",
          "text": [
            "*             \n",
            "*             \n",
            "*             \n",
            "*             \n",
            "*             \n",
            "*             \n",
            "* * * * * * * \n"
          ]
        }
      ]
    },
    {
      "cell_type": "markdown",
      "source": [
        "## Hollow Right Triangle"
      ],
      "metadata": {
        "id": "7UWD6RxMwbLo"
      }
    },
    {
      "cell_type": "code",
      "source": [
        "for i in range(n):\n",
        "  for j in range(n):\n",
        "    if i==n-1 or j==0 or j==i:\n",
        "      print(\"*\",end=\" \")\n",
        "    else:\n",
        "      print(\" \",end=\" \")\n",
        "  \n",
        "  print()"
      ],
      "metadata": {
        "colab": {
          "base_uri": "https://localhost:8080/"
        },
        "id": "ocymeB-DNMXG",
        "outputId": "21a6b3b5-3c9e-4a74-f11f-7bff5e48affb"
      },
      "execution_count": null,
      "outputs": [
        {
          "output_type": "stream",
          "name": "stdout",
          "text": [
            "*             \n",
            "* *           \n",
            "*   *         \n",
            "*     *       \n",
            "*       *     \n",
            "*         *   \n",
            "* * * * * * * \n"
          ]
        }
      ]
    },
    {
      "cell_type": "markdown",
      "source": [
        "## Left Corner downward Arrow"
      ],
      "metadata": {
        "id": "ZCpPfBhiwClk"
      }
    },
    {
      "cell_type": "code",
      "source": [
        "for i in range(n):\n",
        "  for j in range(n):\n",
        "    if i==n-1 or j==0 or j+i==n-1:\n",
        "      print(\"*\",end=\" \")\n",
        "    else:\n",
        "      print(\" \",end=\" \")\n",
        "  print()"
      ],
      "metadata": {
        "colab": {
          "base_uri": "https://localhost:8080/"
        },
        "id": "ZXT-lryrNvOj",
        "outputId": "875fd74c-f212-46da-ec1f-84a99611a781"
      },
      "execution_count": null,
      "outputs": [
        {
          "output_type": "stream",
          "name": "stdout",
          "text": [
            "*           * \n",
            "*         *   \n",
            "*       *     \n",
            "*     *       \n",
            "*   *         \n",
            "* *           \n",
            "* * * * * * * \n"
          ]
        }
      ]
    },
    {
      "cell_type": "markdown",
      "source": [
        "## Hollow Diamond"
      ],
      "metadata": {
        "id": "CuW84Cv4v6cE"
      }
    },
    {
      "cell_type": "code",
      "source": [
        "n=7\n",
        "# loops for upper part\n",
        "for i in range(n+1):\n",
        "  for j in range(n-i):\n",
        "    print(\" \", end=\" \")\n",
        "  for j in range(2*i):\n",
        "    if j==1 or j==2*i-1:\n",
        "      print(\"*\", end=\" \")\n",
        "    else:\n",
        "      print(\" \", end=\" \")\n",
        "  print()\n",
        "# loops for lower part\n",
        "for i in range(n-1,0,-1):\n",
        "  for j in range(n-i+1):\n",
        "    print(\" \",end=\" \")\n",
        "  for j in range(1,2*i):\n",
        "      if j==1 or j==2*i-1:\n",
        "        print(\"*\",end=\" \")\n",
        "      else:\n",
        "        print(\" \",end=\" \")\n",
        "  print()"
      ],
      "metadata": {
        "colab": {
          "base_uri": "https://localhost:8080/"
        },
        "id": "MJHYFfSPzhGI",
        "outputId": "7b396cf9-698a-4276-d233-4d2d7079f9ff"
      },
      "execution_count": null,
      "outputs": [
        {
          "output_type": "stream",
          "name": "stdout",
          "text": [
            "              \n",
            "              * \n",
            "            *   * \n",
            "          *       * \n",
            "        *           * \n",
            "      *               * \n",
            "    *                   * \n",
            "  *                       * \n",
            "    *                   * \n",
            "      *               * \n",
            "        *           * \n",
            "          *       * \n",
            "            *   * \n",
            "              * \n"
          ]
        }
      ]
    },
    {
      "cell_type": "markdown",
      "source": [
        "## Hollow Heart Shape"
      ],
      "metadata": {
        "id": "QVAaDJGDvKY4"
      }
    },
    {
      "cell_type": "code",
      "source": [
        "n = 10 # use even number\n",
        "m = n+1\n",
        "# loops for upper part\n",
        "for i in range(n//2-1):\n",
        "\tfor j in range(m):\n",
        "\t\tif i == n//2-2 and (j == 0 or j == m-1):\n",
        "\t\t\tprint(\"*\", end=\" \")\n",
        "\t\telif j <= m//2 and ((i+j == n//2-3 and j <= m//4) \\\n",
        "\t\t\t\t\t\t\tor (j-i == m//2-n//2+3 and j > m//4)):\n",
        "\t\t\tprint(\"*\", end=\" \")\n",
        "\t\telif j > m//2 and ((i+j == n//2-3+m//2 and j < 3*m//4) \\\n",
        "\t\t\t\t\t\tor (j-i == m//2-n//2+3+m//2 and j >= 3*m//4)):\n",
        "\t\t\tprint(\"*\", end=\" \")\n",
        "\t\telse:\n",
        "\t\t\tprint(\" \", end=\" \")\n",
        "\tprint()\n",
        "\n",
        "# loops for lower part\n",
        "for i in range(n//2-1, n):\n",
        "\tfor j in range(m):\n",
        "\t\tif (i-j == n//2-1) or (i+j == n-1+m//2):\n",
        "\t\t\tprint('*', end=\" \")\n",
        "\t\telif i == n//2-1:\n",
        "\t\t\tprint(' ', end=\" \")\n",
        "\t\telse:\n",
        "\t\t\tprint(' ', end=\" \")\t\t\t\n",
        "\tprint()"
      ],
      "metadata": {
        "colab": {
          "base_uri": "https://localhost:8080/"
        },
        "id": "NW6C1R7tmxn3",
        "outputId": "d37d7f52-e8a6-4a54-acd2-8e2b949b2ba0"
      },
      "execution_count": null,
      "outputs": [
        {
          "output_type": "stream",
          "name": "stdout",
          "text": [
            "    * *       * *     \n",
            "  *     *   *     *   \n",
            "*         *         * \n",
            "*                   * \n",
            "*                   * \n",
            "  *               *   \n",
            "    *           *     \n",
            "      *       *       \n",
            "        *   *         \n",
            "          *           \n"
          ]
        }
      ]
    },
    {
      "cell_type": "markdown",
      "source": [
        "# Patterns With Numbers & Characters"
      ],
      "metadata": {
        "id": "I3Qwi6ZDxeTu"
      }
    },
    {
      "cell_type": "code",
      "source": [
        "for i in range(n):\n",
        "  for j in range(i+1):\n",
        "    print(i+1,end=\" \")\n",
        "  print()"
      ],
      "metadata": {
        "colab": {
          "base_uri": "https://localhost:8080/"
        },
        "id": "Z5ydDm4uxheW",
        "outputId": "eb0e80e0-9c5c-458f-9d94-0c169bff2ef1"
      },
      "execution_count": null,
      "outputs": [
        {
          "output_type": "stream",
          "name": "stdout",
          "text": [
            "1 \n",
            "2 2 \n",
            "3 3 3 \n",
            "4 4 4 4 \n",
            "5 5 5 5 5 \n",
            "6 6 6 6 6 6 \n",
            "7 7 7 7 7 7 7 \n"
          ]
        }
      ]
    },
    {
      "cell_type": "code",
      "source": [
        "for i in range(n):\n",
        "  for j in range(i,n):\n",
        "    print(i+1,end=\" \")\n",
        "  print()"
      ],
      "metadata": {
        "colab": {
          "base_uri": "https://localhost:8080/"
        },
        "id": "pBtu0iWO3kdM",
        "outputId": "ff3075cf-a60d-4bcf-f95f-ed1c277eb597"
      },
      "execution_count": null,
      "outputs": [
        {
          "output_type": "stream",
          "name": "stdout",
          "text": [
            "1 1 1 1 1 1 1 \n",
            "2 2 2 2 2 2 \n",
            "3 3 3 3 3 \n",
            "4 4 4 4 \n",
            "5 5 5 \n",
            "6 6 \n",
            "7 \n"
          ]
        }
      ]
    },
    {
      "cell_type": "code",
      "source": [
        "for i in range(n):\n",
        "  for j in range(i+1):\n",
        "    print(n-i,end=\" \")\n",
        "  print()"
      ],
      "metadata": {
        "colab": {
          "base_uri": "https://localhost:8080/"
        },
        "id": "eBXZGeKr4cYo",
        "outputId": "fc09f677-17db-4d2b-b26b-7ae82f56467e"
      },
      "execution_count": null,
      "outputs": [
        {
          "output_type": "stream",
          "name": "stdout",
          "text": [
            "7 \n",
            "6 6 \n",
            "5 5 5 \n",
            "4 4 4 4 \n",
            "3 3 3 3 3 \n",
            "2 2 2 2 2 2 \n",
            "1 1 1 1 1 1 1 \n"
          ]
        }
      ]
    },
    {
      "cell_type": "code",
      "source": [
        "a = 0\n",
        "for i in range(1,n+1):\n",
        "  for j in range(1, n+1-i):\n",
        "    print(' ', end=' ')\n",
        "  for j in range(i,0,-1):\n",
        "    print(a+j, end=' ')\n",
        "  for j in range(2,i+1):\n",
        "    print(a+j, end=' ')\n",
        "  print()"
      ],
      "metadata": {
        "colab": {
          "base_uri": "https://localhost:8080/"
        },
        "id": "7Sgc_DLj5Y3c",
        "outputId": "0a88efa9-7e6c-404a-a5df-3372ff2d8773"
      },
      "execution_count": null,
      "outputs": [
        {
          "output_type": "stream",
          "name": "stdout",
          "text": [
            "            1 \n",
            "          2 1 2 \n",
            "        3 2 1 2 3 \n",
            "      4 3 2 1 2 3 4 \n",
            "    5 4 3 2 1 2 3 4 5 \n",
            "  6 5 4 3 2 1 2 3 4 5 6 \n",
            "7 6 5 4 3 2 1 2 3 4 5 6 7 \n"
          ]
        }
      ]
    },
    {
      "cell_type": "code",
      "source": [
        "a=65\n",
        "for i in range(n):\n",
        "  for j in range(i,n):\n",
        "    print( \"%c\" % (a+i),end=\" \")\n",
        "  print()"
      ],
      "metadata": {
        "colab": {
          "base_uri": "https://localhost:8080/"
        },
        "id": "PMqLwsCU65Wf",
        "outputId": "9e222014-bd0a-429b-91fb-c9709e4f423f"
      },
      "execution_count": null,
      "outputs": [
        {
          "output_type": "stream",
          "name": "stdout",
          "text": [
            "A A A A A A A \n",
            "B B B B B B \n",
            "C C C C C \n",
            "D D D D \n",
            "E E E \n",
            "F F \n",
            "G \n"
          ]
        }
      ]
    },
    {
      "cell_type": "code",
      "source": [
        "a=65\n",
        "for i in range(n):\n",
        "  for j in range(i+1):\n",
        "    print( \"%c\" % (a+i),end=\" \")\n",
        "  print()"
      ],
      "metadata": {
        "colab": {
          "base_uri": "https://localhost:8080/"
        },
        "id": "OEHjmeGc7vOg",
        "outputId": "4313b46b-8361-4eaa-e7ff-6f61b2439821"
      },
      "execution_count": null,
      "outputs": [
        {
          "output_type": "stream",
          "name": "stdout",
          "text": [
            "A \n",
            "B B \n",
            "C C C \n",
            "D D D D \n",
            "E E E E E \n",
            "F F F F F F \n",
            "G G G G G G G \n"
          ]
        }
      ]
    },
    {
      "cell_type": "code",
      "source": [
        "a=65\n",
        "for i in range(n+1):\n",
        "  for j in range(1,i+1):\n",
        "    print( \"%c\" %(a),end=\" \")\n",
        "    a+=1\n",
        "  print()"
      ],
      "metadata": {
        "colab": {
          "base_uri": "https://localhost:8080/"
        },
        "id": "vjbwlIdm8RP4",
        "outputId": "74d4576d-9867-4ebf-ddb3-04c461f4a39b"
      },
      "execution_count": null,
      "outputs": [
        {
          "output_type": "stream",
          "name": "stdout",
          "text": [
            "\n",
            "A \n",
            "B C \n",
            "D E F \n",
            "G H I J \n",
            "K L M N O \n",
            "P Q R S T U \n",
            "V W X Y Z [ \\ \n"
          ]
        }
      ]
    },
    {
      "cell_type": "code",
      "source": [
        "for i in range(1,n+1):\n",
        "  a = 65\n",
        "  for j in range(1, i+1):\n",
        "    print(\"%c\" %(a), end=\" \")\n",
        "    a +=1\n",
        "  print()"
      ],
      "metadata": {
        "colab": {
          "base_uri": "https://localhost:8080/"
        },
        "id": "DIJfOjLY8llR",
        "outputId": "f56b6078-1e33-4778-bedd-315de5838df8"
      },
      "execution_count": null,
      "outputs": [
        {
          "output_type": "stream",
          "name": "stdout",
          "text": [
            "A \n",
            "A B \n",
            "A B C \n",
            "A B C D \n",
            "A B C D E \n",
            "A B C D E F \n",
            "A B C D E F G \n"
          ]
        }
      ]
    },
    {
      "cell_type": "code",
      "source": [
        "a=64\n",
        "for i in range(1,n+1):\n",
        "  for j in range(1, n+1-i):\n",
        "    print(' ', end=' ')\n",
        "  for j in range(i,0,-1):\n",
        "    print( \"%c\" % (a+j), end=' ')\n",
        "  for j in range(2,i+1):\n",
        "    print( \"%c\" % (a+j), end=' ')\n",
        "  print()"
      ],
      "metadata": {
        "colab": {
          "base_uri": "https://localhost:8080/"
        },
        "id": "3nW8b5gu63kl",
        "outputId": "bd9d41e6-d9ad-4619-aa5f-0c26594c74e5"
      },
      "execution_count": null,
      "outputs": [
        {
          "output_type": "stream",
          "name": "stdout",
          "text": [
            "            A \n",
            "          B A B \n",
            "        C B A B C \n",
            "      D C B A B C D \n",
            "    E D C B A B C D E \n",
            "  F E D C B A B C D E F \n",
            "G F E D C B A B C D E F G \n"
          ]
        }
      ]
    }
  ]
}